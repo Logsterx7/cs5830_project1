{
 "cells": [
  {
   "cell_type": "code",
   "execution_count": null,
   "id": "6f0cae0e-d26f-4ac4-8c7d-605f5aabcb8b",
   "metadata": {},
   "outputs": [],
   "source": [
    "import pandas as pd\n",
    "import seaborn as sns\n",
    "\n",
    "\n",
    "##Ratio of Home runs to hits per league\n",
    "df = pd.read_csv('core/Batting.csv')\n",
    "\n",
    "playersData = df[['playerID', 'HR', 'lgID','H']]\n",
    "playersData = playersData[pd.isna(playersData.H)==False]\n",
    "##Gathers the ratio of Home Runs to hits\n",
    "playersData['HR_Ratio'] = playersData.HR / playersData.H\n",
    "##Displays average based on League\n",
    "sns.barplot(data=playersData, x='lgID', y='HR_Ratio')\n"
   ]
  },
  {
   "cell_type": "code",
   "execution_count": null,
   "id": "41c5e7ad-2f5b-4c3a-8147-fed5d2089620",
   "metadata": {},
   "outputs": [],
   "source": [
    "\n",
    "##Home runs per player in each league\n",
    "sns.displot(data=playersData, x='HR', hue='lgID', kind='kde')\n"
   ]
  },
  {
   "cell_type": "code",
   "execution_count": null,
   "id": "5c9d3623-e758-4cc5-ba17-b74d7861a862",
   "metadata": {},
   "outputs": [],
   "source": [
    "df = pd.read_csv('core/Teams.csv')\n",
    "\n",
    "##shows the win lost ratio across all teams\n",
    "\n",
    "teams = df[['yearID','R','name','W','L','park','G','CG']].copy()\n",
    "teams['WL_Ratio'] = df.W / df.L\n",
    "\n",
    "sns.displot(data = teams, x='WL_Ratio')\n"
   ]
  },
  {
   "cell_type": "code",
   "execution_count": null,
   "id": "29257abc-e09e-40f9-877b-de6530a66f16",
   "metadata": {},
   "outputs": [],
   "source": [
    "\n",
    "##park attendance from 1950 - 2017 (most recent time in data)\n",
    "df = pd.read_csv('core/Teams.csv')\n",
    "df = df[['park','attendance','yearID']]\n",
    "\n",
    "parks = df.dropna()\n",
    "parks = parks[parks.yearID >= 1950]\n",
    "##used to find the team stadium appears the most\n",
    "##display(parks)\n",
    "\n",
    "##only report attendence for stadium that appears the most\n",
    "parks = parks[parks.park == str(\"Wrigley Field\")]\n",
    "sns.lineplot(x='yearID', y='attendance', data=parks)\n",
    "\n"
   ]
  }
 ],
 "metadata": {
  "kernelspec": {
   "display_name": "Python 3 (ipykernel)",
   "language": "python",
   "name": "python3"
  },
  "language_info": {
   "codemirror_mode": {
    "name": "ipython",
    "version": 3
   },
   "file_extension": ".py",
   "mimetype": "text/x-python",
   "name": "python",
   "nbconvert_exporter": "python",
   "pygments_lexer": "ipython3",
   "version": "3.9.7"
  }
 },
 "nbformat": 4,
 "nbformat_minor": 5
}
