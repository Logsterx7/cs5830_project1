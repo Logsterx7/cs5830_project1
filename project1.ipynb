{
 "cells": [
  {
   "cell_type": "code",
   "execution_count": null,
   "id": "6f0cae0e-d26f-4ac4-8c7d-605f5aabcb8b",
   "metadata": {},
   "outputs": [],
   "source": [
    "import pandas as pd\n",
    "import seaborn as sns\n",
    "\n",
    "\n",
    "##Ratio of Home runs to hits per league\n",
    "df = pd.read_csv('core/Batting.csv')\n",
    "\n",
    "playersData = df[['playerID', 'HR', 'lgID','H']]\n",
    "playersData = playersData[pd.isna(playersData.H)==False]\n",
    "##Gathers the ratio of Home Runs to hits\n",
    "playersData['HR_Ratio'] = playersData.HR / playersData.H\n",
    "##Displays average based on League\n",
    "sns.barplot(data=playersData, x='lgID', y='HR_Ratio')\n",
    "\n",
    "##We can see that American League has a higher home run ratio in MLB\n"
   ]
  },
  {
   "cell_type": "code",
   "execution_count": null,
   "id": "41c5e7ad-2f5b-4c3a-8147-fed5d2089620",
   "metadata": {},
   "outputs": [],
   "source": [
    "\n",
    "##Displays the count of players in each league\n",
    "sns.countplot(x=\"lgID\", data=playersData)\n",
    "##This chart shows us that there are more players playing in the National League than the American League"
   ]
  },
  {
   "cell_type": "code",
   "execution_count": null,
   "id": "29257abc-e09e-40f9-877b-de6530a66f16",
   "metadata": {},
   "outputs": [],
   "source": [
    "\n",
    "##park attendance from 1980 - 2017 (most recent time in data)\n",
    "df = pd.read_csv('core/Teams.csv')\n",
    "df = df[['park','attendance','yearID','lgID','name','W','L']]\n",
    "\n",
    "##adjust dataset to our needs\n",
    "parks = df.dropna()\n",
    "parks = parks[parks.yearID >= 1980]\n",
    "parks = parks[parks.lgID==\"NL\"]\n",
    "\n",
    "##used to find the team stadium appears the most. Ends up being the Chicago Cubs at Wrigley Field\n",
    "##display(parks)\n",
    "\n",
    "##only report attendence for stadium that appears the most\n",
    "parks = parks[parks.park == str(\"Wrigley Field\")]\n",
    "parks = parks[parks.name == str(\"Chicago Cubs\")]\n",
    "parks['WL_Ratio'] = parks.W / parks.L\n",
    "\n",
    "sns.lineplot(x='yearID', y='WL_Ratio', data=parks)"
   ]
  },
  {
   "cell_type": "code",
   "execution_count": null,
   "id": "bef06e4a-01ce-4360-9295-ba6cc1f78459",
   "metadata": {},
   "outputs": [],
   "source": [
    "##Display Park attendence for chicago cubs\n",
    "sns.lineplot(x='yearID', y='attendance', data=parks)\n",
    "\n",
    "##We can see a cooralation between attendence and W/L ratio"
   ]
  }
 ],
 "metadata": {
  "kernelspec": {
   "display_name": "Python 3 (ipykernel)",
   "language": "python",
   "name": "python3"
  },
  "language_info": {
   "codemirror_mode": {
    "name": "ipython",
    "version": 3
   },
   "file_extension": ".py",
   "mimetype": "text/x-python",
   "name": "python",
   "nbconvert_exporter": "python",
   "pygments_lexer": "ipython3",
   "version": "3.9.7"
  }
 },
 "nbformat": 4,
 "nbformat_minor": 5
}
